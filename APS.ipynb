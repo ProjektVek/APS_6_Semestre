{
  "cells": [
    {
      "cell_type": "markdown",
      "metadata": {
        "id": "-TAjm4-O_LY6"
      },
      "source": [
        "Importando Bibliotecas:"
      ]
    },
    {
      "cell_type": "code",
      "execution_count": null,
      "metadata": {
        "id": "kG6jZ_lNYR4a"
      },
      "outputs": [],
      "source": [
        "# APS CC 6 Semestre UNIP\n",
        "# Integrantes: \n",
        "# Davi Ribeiro - F21AFG6\n",
        "# Ryan Bruno de Souza - N5664H4\n",
        "# Ryan Vitor Rodrigues Teixeira - N662BC4\n",
        "# Victor Hugo Souza Ferreira - N587FF6\n",
        "!pip  install numpy\n",
        "!pip install pathlib\n"
      ]
    },
    {
      "cell_type": "code",
      "execution_count": 2,
      "metadata": {},
      "outputs": [],
      "source": [
        "import numpy as np # O Uso do Numpy será obrigatório para conseguirmos usar as bibliotecas\n",
        "\n",
        "\n",
        "from pathlib import Path\n",
        "import os"
      ]
    },
    {
      "cell_type": "markdown",
      "metadata": {
        "id": "wUNxhqv4_3b3"
      },
      "source": [
        "Carregando Diretórios:"
      ]
    },
    {
      "cell_type": "code",
      "execution_count": null,
      "metadata": {
        "id": "axJj2MHM_-Be"
      },
      "outputs": [],
      "source": [
        "dataset_folder = Path('dataset_aps')\n",
        "os.listdir(dataset_folder)"
      ]
    },
    {
      "cell_type": "code",
      "execution_count": null,
      "metadata": {},
      "outputs": [],
      "source": [
        "path_labels = {\n",
        "    'a' : Path('a_l'),\n",
        "    'e' : Path('e_l'),\n",
        "    'i' : Path('i_l'),\n",
        "    'o' : Path('o_l'),\n",
        "    'u' : Path('u_l'),\n",
        "    'A' : Path('A_u'),\n",
        "    'E' : Path('E_u'),\n",
        "    'I' : Path('I_u'),\n",
        "    'O' : Path('O_u'),\n",
        "    'U' : Path('U_u')\n",
        "}\n",
        "\n",
        "os.listdir(dataset_folder / path_labels['a'])"
      ]
    },
    {
      "cell_type": "code",
      "execution_count": 4,
      "metadata": {},
      "outputs": [
        {
          "data": {
            "text/plain": [
              "WindowsPath('dataset_aps/a_l/train_61_00000.png')"
            ]
          },
          "execution_count": 4,
          "metadata": {},
          "output_type": "execute_result"
        }
      ],
      "source": [
        "label_to_file = {\n",
        "    k: [dataset_folder / pl/ f for f in os.listdir(dataset_folder / pl)] for k, pl in path_labels.items()\n",
        "}\n",
        "\n",
        "label_to_file['a'][0]"
      ]
    },
    {
      "cell_type": "markdown",
      "metadata": {},
      "source": [
        "### Lendo Imagens:"
      ]
    },
    {
      "cell_type": "code",
      "execution_count": null,
      "metadata": {},
      "outputs": [],
      "source": [
        "!pip install matplotlib\n"
      ]
    },
    {
      "cell_type": "code",
      "execution_count": 3,
      "metadata": {},
      "outputs": [],
      "source": [
        "from matplotlib.image import imread"
      ]
    },
    {
      "cell_type": "code",
      "execution_count": 6,
      "metadata": {},
      "outputs": [
        {
          "name": "stdout",
          "output_type": "stream",
          "text": [
            "<class 'numpy.ndarray'>\n"
          ]
        }
      ],
      "source": [
        "img = imread(label_to_file['a'][0])\n",
        "print(type(img))"
      ]
    },
    {
      "cell_type": "code",
      "execution_count": 7,
      "metadata": {},
      "outputs": [
        {
          "data": {
            "text/plain": [
              "array([[1., 1., 1., ..., 1., 1., 1.],\n",
              "       [1., 1., 1., ..., 1., 1., 1.],\n",
              "       [1., 1., 1., ..., 1., 1., 1.],\n",
              "       ...,\n",
              "       [1., 1., 1., ..., 1., 1., 1.],\n",
              "       [1., 1., 1., ..., 1., 1., 1.],\n",
              "       [1., 1., 1., ..., 1., 1., 1.]], dtype=float32)"
            ]
          },
          "execution_count": 7,
          "metadata": {},
          "output_type": "execute_result"
        }
      ],
      "source": [
        "bin_matrix = []\n",
        "for linha in img:\n",
        "    bin_matrix.append([celula[0] for celula in linha])\n",
        "\n",
        "np.array(bin_matrix)"
      ]
    },
    {
      "cell_type": "code",
      "execution_count": 8,
      "metadata": {},
      "outputs": [],
      "source": [
        "def print_bin_matrix(img: np.array):\n",
        "    matrix = ''\n",
        "    for linha in img:\n",
        "        for p in linha:\n",
        "            matrix += f'{int(p):>1}'\n",
        "        matrix += '\\n'\n",
        "    print(matrix)"
      ]
    },
    {
      "cell_type": "code",
      "execution_count": null,
      "metadata": {},
      "outputs": [],
      "source": [
        "print_bin_matrix(bin_matrix)"
      ]
    },
    {
      "cell_type": "markdown",
      "metadata": {},
      "source": [
        "### Salvando Dataset em formato ML:"
      ]
    },
    {
      "cell_type": "code",
      "execution_count": 29,
      "metadata": {},
      "outputs": [],
      "source": [
        "X = []\n",
        "Y = []\n",
        "for key, files in label_to_file.items():\n",
        "    for path in files:\n",
        "        Y.append(key)\n",
        "        image = imread(path)\n",
        "        matrix = []\n",
        "        for linha in image:\n",
        "            matrix.append([int(celula[0]) for celula in linha])\n",
        "\n",
        "        X.append(np.array(matrix))"
      ]
    },
    {
      "cell_type": "code",
      "execution_count": 31,
      "metadata": {},
      "outputs": [],
      "source": [
        "\n",
        "# transformando matriz da imagem em array de uma dimensao\n",
        "X = [x.reshape(1, -1) for x in X]"
      ]
    },
    {
      "cell_type": "code",
      "execution_count": 39,
      "metadata": {},
      "outputs": [],
      "source": [
        "X = np.array(X)"
      ]
    },
    {
      "cell_type": "code",
      "execution_count": 43,
      "metadata": {},
      "outputs": [],
      "source": [
        "# função que corrige o array estar compactado de forma errada\n",
        "def process_X(X: np.array):\n",
        "    matrix = []\n",
        "    for item in X:\n",
        "        for subitem in item:\n",
        "            matrix.append(subitem)\n",
        "    matrix = np.array(matrix)\n",
        "    return matrix"
      ]
    },
    {
      "cell_type": "code",
      "execution_count": 44,
      "metadata": {},
      "outputs": [],
      "source": [
        "X = process_X(X)"
      ]
    },
    {
      "cell_type": "code",
      "execution_count": 45,
      "metadata": {},
      "outputs": [
        {
          "data": {
            "text/plain": [
              "array([[1, 1, 1, ..., 1, 1, 1],\n",
              "       [1, 1, 1, ..., 1, 1, 1],\n",
              "       [1, 1, 1, ..., 1, 1, 1],\n",
              "       ...,\n",
              "       [1, 1, 1, ..., 1, 1, 1],\n",
              "       [1, 1, 1, ..., 1, 1, 1],\n",
              "       [1, 1, 1, ..., 1, 1, 1]])"
            ]
          },
          "execution_count": 45,
          "metadata": {},
          "output_type": "execute_result"
        }
      ],
      "source": [
        "X"
      ]
    },
    {
      "cell_type": "code",
      "execution_count": 46,
      "metadata": {},
      "outputs": [],
      "source": [
        "# transformando arary de labels em binarios (se eh i ou nao)\n",
        "Y = np.array(Y)"
      ]
    },
    {
      "cell_type": "code",
      "execution_count": 47,
      "metadata": {},
      "outputs": [],
      "source": [
        "Y = ((Y=='i')|(Y=='I'))"
      ]
    },
    {
      "cell_type": "code",
      "execution_count": null,
      "metadata": {},
      "outputs": [],
      "source": [
        "Y"
      ]
    },
    {
      "cell_type": "code",
      "execution_count": null,
      "metadata": {},
      "outputs": [],
      "source": [
        "!pip install sklearn\n"
      ]
    },
    {
      "cell_type": "code",
      "execution_count": 4,
      "metadata": {},
      "outputs": [],
      "source": [
        "from sklearn.model_selection import StratifiedShuffleSplit"
      ]
    },
    {
      "cell_type": "code",
      "execution_count": 50,
      "metadata": {},
      "outputs": [],
      "source": [
        "# split entre 0, 1\n",
        "# separando 20% para teste\n",
        "split_test_threshold = 0.2\n",
        "\n",
        "selection_iter = StratifiedShuffleSplit(n_splits=1, test_size=split_test_threshold, random_state=42)"
      ]
    },
    {
      "cell_type": "code",
      "execution_count": 51,
      "metadata": {},
      "outputs": [],
      "source": [
        "train_index, test_index = next(selection_iter.split(X, Y))"
      ]
    },
    {
      "cell_type": "code",
      "execution_count": 52,
      "metadata": {},
      "outputs": [],
      "source": [
        "X_train = X[train_index]\n",
        "X_test = X[test_index]\n",
        "y_train = Y[train_index]\n",
        "y_test = Y[test_index]"
      ]
    },
    {
      "cell_type": "code",
      "execution_count": 53,
      "metadata": {},
      "outputs": [
        {
          "name": "stdout",
          "output_type": "stream",
          "text": [
            "900\n",
            "720\n"
          ]
        }
      ],
      "source": [
        "print(len(Y))\n",
        "print(len(y_train))"
      ]
    },
    {
      "cell_type": "markdown",
      "metadata": {},
      "source": [
        "### Salvando os Dados:"
      ]
    },
    {
      "cell_type": "code",
      "execution_count": 54,
      "metadata": {},
      "outputs": [],
      "source": [
        "with open('train_index.npy', 'wb') as f:\n",
        "    np.save(f, train_index)"
      ]
    },
    {
      "cell_type": "code",
      "execution_count": 55,
      "metadata": {},
      "outputs": [],
      "source": [
        "with open('test_index.npy', 'wb') as f:\n",
        "    np.save(f, test_index)"
      ]
    },
    {
      "cell_type": "code",
      "execution_count": 56,
      "metadata": {},
      "outputs": [],
      "source": [
        "with open('X.npy', 'wb') as f:\n",
        "    np.save(f, X)"
      ]
    },
    {
      "cell_type": "code",
      "execution_count": 57,
      "metadata": {},
      "outputs": [],
      "source": [
        "with open('y.npy', 'wb') as f:\n",
        "    np.save(f, Y)"
      ]
    },
    {
      "cell_type": "code",
      "execution_count": 58,
      "metadata": {},
      "outputs": [],
      "source": [
        "with open('X_train.npy', 'wb') as f:\n",
        "    np.save(f, X_train)"
      ]
    },
    {
      "cell_type": "code",
      "execution_count": 59,
      "metadata": {},
      "outputs": [],
      "source": [
        "with open('X_test.npy', 'wb') as f:\n",
        "    np.save(f, X_test)"
      ]
    },
    {
      "cell_type": "code",
      "execution_count": 60,
      "metadata": {},
      "outputs": [],
      "source": [
        "with open('y_train.npy', 'wb') as f:\n",
        "    np.save(f, y_train)"
      ]
    },
    {
      "cell_type": "code",
      "execution_count": 61,
      "metadata": {},
      "outputs": [],
      "source": [
        "with open('y_test.npy', 'wb') as f:\n",
        "    np.save(f, y_test)"
      ]
    },
    {
      "cell_type": "markdown",
      "metadata": {},
      "source": [
        "### Carregando dados"
      ]
    },
    {
      "cell_type": "code",
      "execution_count": 5,
      "metadata": {},
      "outputs": [],
      "source": [
        "with open('train_index.npy', 'rb') as f:\n",
        "    train_index = np.load(f)"
      ]
    },
    {
      "cell_type": "code",
      "execution_count": 6,
      "metadata": {},
      "outputs": [],
      "source": [
        "\n",
        "with open('test_index.npy', 'rb') as f:\n",
        "    test_index = np.load(f)"
      ]
    },
    {
      "cell_type": "code",
      "execution_count": 7,
      "metadata": {},
      "outputs": [],
      "source": [
        "\n",
        "with open('X.npy', 'rb') as f:\n",
        "    X = np.load(f)"
      ]
    },
    {
      "cell_type": "code",
      "execution_count": 8,
      "metadata": {},
      "outputs": [],
      "source": [
        "with open('y.npy', 'rb') as f:\n",
        "    y = np.load(f)"
      ]
    },
    {
      "cell_type": "code",
      "execution_count": 9,
      "metadata": {},
      "outputs": [],
      "source": [
        "\n",
        "with open('X_train.npy', 'rb') as f:\n",
        "    X_train = np.load(f)"
      ]
    },
    {
      "cell_type": "code",
      "execution_count": 10,
      "metadata": {},
      "outputs": [],
      "source": [
        "with open('X_test.npy', 'rb') as f:\n",
        "    X_test = np.load(f)"
      ]
    },
    {
      "cell_type": "code",
      "execution_count": 11,
      "metadata": {},
      "outputs": [],
      "source": [
        "with open('y_train.npy', 'rb') as f:\n",
        "    y_train = np.load(f)"
      ]
    },
    {
      "cell_type": "code",
      "execution_count": 12,
      "metadata": {},
      "outputs": [],
      "source": [
        "\n",
        "with open('y_test.npy', 'rb') as f:\n",
        "    y_test = np.load(f)"
      ]
    },
    {
      "cell_type": "markdown",
      "metadata": {},
      "source": [
        "### Treinando Classificador Binário"
      ]
    },
    {
      "cell_type": "markdown",
      "metadata": {},
      "source": [
        "# SGDClassifier"
      ]
    },
    {
      "cell_type": "code",
      "execution_count": null,
      "metadata": {},
      "outputs": [],
      "source": [
        "!pip install sklearn"
      ]
    },
    {
      "cell_type": "code",
      "execution_count": 18,
      "metadata": {},
      "outputs": [],
      "source": [
        "from sklearn.linear_model import SGDClassifier"
      ]
    },
    {
      "cell_type": "code",
      "execution_count": null,
      "metadata": {},
      "outputs": [],
      "source": [
        "sgd_clf = SGDClassifier(random_state=42)\n",
        "sgd_clf.fit(X_train, y_train)"
      ]
    },
    {
      "cell_type": "markdown",
      "metadata": {},
      "source": [
        "Testando Classificador Binário"
      ]
    },
    {
      "cell_type": "code",
      "execution_count": 72,
      "metadata": {},
      "outputs": [
        {
          "data": {
            "text/plain": [
              "False"
            ]
          },
          "execution_count": 72,
          "metadata": {},
          "output_type": "execute_result"
        }
      ],
      "source": [
        "y_test[0]"
      ]
    },
    {
      "cell_type": "code",
      "execution_count": 74,
      "metadata": {},
      "outputs": [
        {
          "data": {
            "text/plain": [
              "array([False])"
            ]
          },
          "execution_count": 74,
          "metadata": {},
          "output_type": "execute_result"
        }
      ],
      "source": [
        "sgd_clf.predict([X_test[0]])"
      ]
    },
    {
      "cell_type": "markdown",
      "metadata": {},
      "source": [
        "### Acurácia Média"
      ]
    },
    {
      "cell_type": "code",
      "execution_count": 81,
      "metadata": {},
      "outputs": [],
      "source": [
        "def acuracia_media(x_test: np.array, y_test: np.array):\n",
        "    size = len(x_test)\n",
        "    acertos = 0\n",
        "    for predict, real in zip(sgd_clf.predict(X_test), y_test):\n",
        "        if predict == real:\n",
        "            acertos += 1\n",
        "    acuracia = acertos/size\n",
        "    return acuracia"
      ]
    },
    {
      "cell_type": "code",
      "execution_count": 84,
      "metadata": {},
      "outputs": [
        {
          "data": {
            "text/plain": [
              "0.9722222222222222"
            ]
          },
          "execution_count": 84,
          "metadata": {},
          "output_type": "execute_result"
        }
      ],
      "source": [
        "# acuracia_media somente com apenas um mesmo treino\n",
        "acuracia = acuracia_media(X_test, y_test)\n",
        "acuracia"
      ]
    },
    {
      "cell_type": "code",
      "execution_count": 17,
      "metadata": {},
      "outputs": [],
      "source": [
        "# acuracia media usando cross_val_score\n",
        "from sklearn.model_selection import cross_val_score, cross_val_predict\n",
        "from sklearn.metrics import confusion_matrix, precision_score, recall_score, f1_score"
      ]
    },
    {
      "cell_type": "code",
      "execution_count": 20,
      "metadata": {},
      "outputs": [
        {
          "data": {
            "text/plain": [
              "array([0.84166667, 0.95833333, 0.9375    ])"
            ]
          },
          "execution_count": 20,
          "metadata": {},
          "output_type": "execute_result"
        }
      ],
      "source": [
        "acc = cross_val_score(sgd_clf, X_train, y_train, cv=3, scoring='accuracy')\n",
        "acc"
      ]
    },
    {
      "cell_type": "code",
      "execution_count": 16,
      "metadata": {},
      "outputs": [],
      "source": [
        "def media(acc: np.array):\n",
        "    counter = 0\n",
        "    media = 0\n",
        "    for num in acc:\n",
        "        counter += 1\n",
        "        media += num\n",
        "    media = media / counter\n",
        "    return media"
      ]
    },
    {
      "cell_type": "code",
      "execution_count": 21,
      "metadata": {},
      "outputs": [
        {
          "data": {
            "text/plain": [
              "0.9125"
            ]
          },
          "execution_count": 21,
          "metadata": {},
          "output_type": "execute_result"
        }
      ],
      "source": [
        "media(acc)"
      ]
    },
    {
      "cell_type": "markdown",
      "metadata": {},
      "source": [
        "### Matrix de Confusão"
      ]
    },
    {
      "cell_type": "code",
      "execution_count": 92,
      "metadata": {},
      "outputs": [
        {
          "data": {
            "text/plain": [
              "array([[525,  51],\n",
              "       [ 12, 132]], dtype=int64)"
            ]
          },
          "execution_count": 92,
          "metadata": {},
          "output_type": "execute_result"
        }
      ],
      "source": [
        "y_train_pred = cross_val_predict(sgd_clf, X_train, y_train, cv=3)\n",
        "confusion_matrix(y_train, y_train_pred)"
      ]
    },
    {
      "cell_type": "markdown",
      "metadata": {},
      "source": [
        "verdadeiros positivos: 132\n",
        "\n",
        "falsos positivos: 51\n",
        "\n",
        "verdadeiros negativo: 525\n",
        "\n",
        "falsos negativo: 12"
      ]
    },
    {
      "cell_type": "markdown",
      "metadata": {},
      "source": [
        "### Precision:"
      ]
    },
    {
      "cell_type": "code",
      "execution_count": 93,
      "metadata": {},
      "outputs": [
        {
          "data": {
            "text/plain": [
              "0.7213114754098361"
            ]
          },
          "execution_count": 93,
          "metadata": {},
          "output_type": "execute_result"
        }
      ],
      "source": [
        "precision_score(y_train, y_train_pred)"
      ]
    },
    {
      "cell_type": "markdown",
      "metadata": {},
      "source": [
        "### Recall:"
      ]
    },
    {
      "cell_type": "code",
      "execution_count": 94,
      "metadata": {},
      "outputs": [
        {
          "data": {
            "text/plain": [
              "0.9166666666666666"
            ]
          },
          "execution_count": 94,
          "metadata": {},
          "output_type": "execute_result"
        }
      ],
      "source": [
        "recall_score(y_train, y_train_pred)"
      ]
    },
    {
      "cell_type": "markdown",
      "metadata": {},
      "source": [
        "### F1:"
      ]
    },
    {
      "cell_type": "code",
      "execution_count": 95,
      "metadata": {},
      "outputs": [
        {
          "data": {
            "text/plain": [
              "0.8073394495412843"
            ]
          },
          "execution_count": 95,
          "metadata": {},
          "output_type": "execute_result"
        }
      ],
      "source": [
        "f1_score(y_train, y_train_pred)"
      ]
    },
    {
      "cell_type": "markdown",
      "metadata": {},
      "source": [
        "# Random Forest Classifier"
      ]
    },
    {
      "cell_type": "code",
      "execution_count": 1,
      "metadata": {},
      "outputs": [],
      "source": [
        "from sklearn.ensemble import RandomForestClassifier"
      ]
    },
    {
      "cell_type": "code",
      "execution_count": 13,
      "metadata": {},
      "outputs": [],
      "source": [
        "rf = RandomForestClassifier(max_depth=2, random_state=0)"
      ]
    },
    {
      "cell_type": "code",
      "execution_count": null,
      "metadata": {},
      "outputs": [],
      "source": [
        "rf.fit(X_train, y_train)"
      ]
    },
    {
      "cell_type": "markdown",
      "metadata": {},
      "source": [
        "### acurácia média"
      ]
    },
    {
      "cell_type": "code",
      "execution_count": 25,
      "metadata": {},
      "outputs": [
        {
          "data": {
            "text/plain": [
              "0.8138888888888888"
            ]
          },
          "execution_count": 25,
          "metadata": {},
          "output_type": "execute_result"
        }
      ],
      "source": [
        "acc = cross_val_score(rf, X_train, y_train, cv=3, scoring='accuracy')\n",
        "media(acc)"
      ]
    },
    {
      "cell_type": "markdown",
      "metadata": {},
      "source": [
        "### Matrix de Confusão"
      ]
    },
    {
      "cell_type": "code",
      "execution_count": 26,
      "metadata": {},
      "outputs": [
        {
          "data": {
            "text/plain": [
              "array([[576,   0],\n",
              "       [134,  10]], dtype=int64)"
            ]
          },
          "execution_count": 26,
          "metadata": {},
          "output_type": "execute_result"
        }
      ],
      "source": [
        "y_train_pred = cross_val_predict(rf, X_train, y_train, cv=3)\n",
        "confusion_matrix(y_train, y_train_pred)"
      ]
    },
    {
      "cell_type": "markdown",
      "metadata": {},
      "source": [
        "Verdadeiro Positivo: 10\n",
        "\n",
        "Falso Positivo: 0\n",
        "\n",
        "Verdadeiro Negativo: 576\n",
        "\n",
        "Falso Negativo: 134"
      ]
    },
    {
      "cell_type": "markdown",
      "metadata": {},
      "source": [
        "### Precision"
      ]
    },
    {
      "cell_type": "code",
      "execution_count": 27,
      "metadata": {},
      "outputs": [
        {
          "data": {
            "text/plain": [
              "1.0"
            ]
          },
          "execution_count": 27,
          "metadata": {},
          "output_type": "execute_result"
        }
      ],
      "source": [
        "precision_score(y_train, y_train_pred)"
      ]
    },
    {
      "cell_type": "markdown",
      "metadata": {},
      "source": [
        "### Recall"
      ]
    },
    {
      "cell_type": "code",
      "execution_count": 28,
      "metadata": {},
      "outputs": [
        {
          "data": {
            "text/plain": [
              "0.06944444444444445"
            ]
          },
          "execution_count": 28,
          "metadata": {},
          "output_type": "execute_result"
        }
      ],
      "source": [
        "recall_score(y_train, y_train_pred)"
      ]
    },
    {
      "cell_type": "markdown",
      "metadata": {},
      "source": [
        "### f1"
      ]
    },
    {
      "cell_type": "code",
      "execution_count": 29,
      "metadata": {},
      "outputs": [
        {
          "data": {
            "text/plain": [
              "0.12987012987012989"
            ]
          },
          "execution_count": 29,
          "metadata": {},
          "output_type": "execute_result"
        }
      ],
      "source": [
        "f1_score(y_train, y_train_pred)"
      ]
    },
    {
      "cell_type": "markdown",
      "metadata": {},
      "source": [
        "### Salvando modelo treinado"
      ]
    },
    {
      "cell_type": "code",
      "execution_count": 109,
      "metadata": {},
      "outputs": [],
      "source": [
        "from joblib import dump, load"
      ]
    },
    {
      "cell_type": "code",
      "execution_count": null,
      "metadata": {},
      "outputs": [],
      "source": [
        "sgd_clf.fit(X, y)"
      ]
    },
    {
      "cell_type": "code",
      "execution_count": 110,
      "metadata": {},
      "outputs": [
        {
          "data": {
            "text/plain": [
              "['modelo_salvo.joblib']"
            ]
          },
          "execution_count": 110,
          "metadata": {},
          "output_type": "execute_result"
        }
      ],
      "source": [
        "dump(sgd_clf, 'modelo_salvo.joblib')"
      ]
    },
    {
      "cell_type": "markdown",
      "metadata": {},
      "source": [
        "# Conclusão:\n",
        "\n",
        "## SGDClassifier:\n",
        "### Acurácia média: 91,25%\n",
        "### Precision: 72,13%\n",
        "### Recall: 91,66%\n",
        "### f1: 80,73%\n",
        "\n",
        "## Random Forest Classifier:\n",
        "### Acurácia média: 81,38%\n",
        "### Precision: 100%\n",
        "### Recall: 6,94%\n",
        "### f1: 12,98%\n",
        "\n",
        "Baseado nas Pontuações de f1 podemos definir que para este caso o SGDClassifier se sai muito melhor do que o Random Forest Classifier."
      ]
    }
  ],
  "metadata": {
    "colab": {
      "provenance": []
    },
    "kernelspec": {
      "display_name": "Python 3.10.8 64-bit (microsoft store)",
      "language": "python",
      "name": "python3"
    },
    "language_info": {
      "codemirror_mode": {
        "name": "ipython",
        "version": 3
      },
      "file_extension": ".py",
      "mimetype": "text/x-python",
      "name": "python",
      "nbconvert_exporter": "python",
      "pygments_lexer": "ipython3",
      "version": "3.10.8"
    },
    "vscode": {
      "interpreter": {
        "hash": "1c7a0a8b8d02adcf057d5053da9c08c3357d5660796754947f82aa358157f991"
      }
    }
  },
  "nbformat": 4,
  "nbformat_minor": 0
}
